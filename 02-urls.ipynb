{
 "cells": [
  {
   "cell_type": "code",
   "execution_count": 1,
   "metadata": {},
   "outputs": [],
   "source": [
    "import os,sys\n",
    "sys.path.insert(0, '~/mysite')\n",
    "os.environ.setdefault(\"DJANGO_SETTINGS_MODULE\", \"mysite.settings\")\n",
    "import django\n",
    "django.setup()"
   ]
  },
  {
   "cell_type": "code",
   "execution_count": null,
   "metadata": {},
   "outputs": [],
   "source": [
    "def get_resolver(urlconf=None):                                                                                                                 \n",
    "    if urlconf is None:                                                                                                                         \n",
    "        from django.conf import settings                                                                                                        \n",
    "        urlconf = settings.ROOT_URLCONF                                                                                                         \n",
    "    return URLResolver(RegexPattern(r'^/'), urlconf)"
   ]
  },
  {
   "cell_type": "code",
   "execution_count": 11,
   "metadata": {
    "scrolled": true
   },
   "outputs": [
    {
     "name": "stdout",
     "output_type": "stream",
     "text": [
      "<URLResolver 'mysite.urls' (None:None) '^/'>\n",
      "[<URLResolver <module 'polls.urls' from '/Users/newlife/mysite/polls/urls.py'> (None:None) 'polls/'>, <URLResolver <URLPattern list> (admin:admin) 'admin/'>]\n"
     ]
    }
   ],
   "source": [
    "from django.urls import get_resolver\n",
    "resolver = get_resolver()\n",
    "print(resolver)\n",
    "print(resolver.url_patterns)"
   ]
  },
  {
   "cell_type": "code",
   "execution_count": 3,
   "metadata": {},
   "outputs": [
    {
     "name": "stdout",
     "output_type": "stream",
     "text": [
      "ResolverMatch(func=polls.views.index, args=(), kwargs={}, url_name=index, app_names=[], namespaces=[])\n"
     ]
    }
   ],
   "source": [
    "resolver_match = resolver.resolve('/polls/')\n",
    "print(resolver_match)"
   ]
  },
  {
   "cell_type": "markdown",
   "metadata": {},
   "source": [
    "类URLResolver在执行__init__方法的时候，接收一个pattern和一个urlconf_name，这个类有url_patterns的属性方法，该方法返回一个list，即我们在urls文件(这个urlconf_name对应的文件)定义的url_patterns，这个list中元素都是path定义的，可以是URLPattern或者URLResolver。\n",
    "\n",
    "类URLPattern在执行__init__方法的时候，接收一个pattern和一个callback.\n",
    "这两个类都有一个resolve的方法，\n",
    "\n",
    "正是由于这个原因，我们可以在urls文件无限嵌套，最后获得一个ResolverMatch对象。\n",
    "\n",
    "这个ResolverMatch对象包含我们处理某个请求的具体逻辑函数，这个函数传递和middleware一起返回响应。"
   ]
  },
  {
   "cell_type": "code",
   "execution_count": null,
   "metadata": {},
   "outputs": [],
   "source": []
  },
  {
   "cell_type": "code",
   "execution_count": 4,
   "metadata": {},
   "outputs": [
    {
     "name": "stdout",
     "output_type": "stream",
     "text": [
      "mysite.urls\n"
     ]
    }
   ],
   "source": [
    "from django.conf import settings\n",
    "print(settings.ROOT_URLCONF)"
   ]
  },
  {
   "cell_type": "code",
   "execution_count": 5,
   "metadata": {},
   "outputs": [
    {
     "name": "stdout",
     "output_type": "stream",
     "text": [
      "('polls/?a=1&b=2', (), {})\n"
     ]
    }
   ],
   "source": [
    "print(resolver.pattern.match('/polls/?a=1&b=2'))"
   ]
  },
  {
   "cell_type": "code",
   "execution_count": 6,
   "metadata": {},
   "outputs": [
    {
     "name": "stdout",
     "output_type": "stream",
     "text": [
      "<MultiValueDict: {<function index at 0x107dbe400>: [([('polls/', [])], 'polls\\\\/$', {}, {})], 'index': [([('polls/', [])], 'polls\\\\/$', {}, {})]}>\n"
     ]
    }
   ],
   "source": [
    "print(resolver.reverse_dict)"
   ]
  },
  {
   "cell_type": "code",
   "execution_count": 7,
   "metadata": {},
   "outputs": [
    {
     "name": "stdout",
     "output_type": "stream",
     "text": [
      "en-us\n"
     ]
    }
   ],
   "source": [
    "from django.utils.translation import get_language \n",
    "print(get_language())"
   ]
  },
  {
   "cell_type": "code",
   "execution_count": 10,
   "metadata": {},
   "outputs": [
    {
     "name": "stdout",
     "output_type": "stream",
     "text": [
      "<URLPattern '' [name='index']>\n"
     ]
    }
   ],
   "source": [
    "from polls.urls import urlpatterns\n",
    "print(urlpatterns[0])"
   ]
  },
  {
   "cell_type": "code",
   "execution_count": null,
   "metadata": {},
   "outputs": [],
   "source": []
  }
 ],
 "metadata": {
  "kernelspec": {
   "display_name": "Python 3",
   "language": "python",
   "name": "python3"
  },
  "language_info": {
   "codemirror_mode": {
    "name": "ipython",
    "version": 3
   },
   "file_extension": ".py",
   "mimetype": "text/x-python",
   "name": "python",
   "nbconvert_exporter": "python",
   "pygments_lexer": "ipython3",
   "version": "3.6.3"
  }
 },
 "nbformat": 4,
 "nbformat_minor": 2
}
