{
 "cells": [
  {
   "cell_type": "code",
   "execution_count": 1,
   "metadata": {},
   "outputs": [],
   "source": [
    "import os,sys\n",
    "sys.path.insert(0, '~/mysite')\n",
    "os.environ.setdefault(\"DJANGO_SETTINGS_MODULE\", \"mysite.settings\")\n",
    "import django\n",
    "django.setup()"
   ]
  },
  {
   "cell_type": "code",
   "execution_count": 2,
   "metadata": {},
   "outputs": [
    {
     "name": "stdout",
     "output_type": "stream",
     "text": [
      "<URLResolver 'mysite.urls' (None:None) '^/'>\n"
     ]
    }
   ],
   "source": [
    "from django.urls import get_resolver\n",
    "resolver = get_resolver()\n",
    "print(resolver)"
   ]
  },
  {
   "cell_type": "code",
   "execution_count": 3,
   "metadata": {},
   "outputs": [
    {
     "name": "stdout",
     "output_type": "stream",
     "text": [
      "ResolverMatch(func=polls.views.index, args=(), kwargs={}, url_name=index, app_names=[], namespaces=[])\n"
     ]
    }
   ],
   "source": [
    "resolver_match = resolver.resolve('/polls/')\n",
    "print(resolver_match)"
   ]
  },
  {
   "cell_type": "code",
   "execution_count": 4,
   "metadata": {},
   "outputs": [
    {
     "name": "stdout",
     "output_type": "stream",
     "text": [
      "mysite.urls\n"
     ]
    }
   ],
   "source": [
    "from django.conf import settings\n",
    "print(settings.ROOT_URLCONF)"
   ]
  },
  {
   "cell_type": "code",
   "execution_count": 5,
   "metadata": {},
   "outputs": [
    {
     "name": "stdout",
     "output_type": "stream",
     "text": [
      "('polls/?a=1&b=2', (), {})\n"
     ]
    }
   ],
   "source": [
    "print(resolver.pattern.match('/polls/?a=1&b=2'))"
   ]
  },
  {
   "cell_type": "code",
   "execution_count": 6,
   "metadata": {},
   "outputs": [
    {
     "name": "stdout",
     "output_type": "stream",
     "text": [
      "<MultiValueDict: {<function index at 0x105150400>: [([('polls/', [])], 'polls\\\\/$', {}, {})], 'index': [([('polls/', [])], 'polls\\\\/$', {}, {})]}>\n"
     ]
    }
   ],
   "source": [
    "print(resolver.reverse_dict)"
   ]
  },
  {
   "cell_type": "code",
   "execution_count": 7,
   "metadata": {},
   "outputs": [
    {
     "name": "stdout",
     "output_type": "stream",
     "text": [
      "en-us\n"
     ]
    }
   ],
   "source": [
    "from django.utils.translation import get_language \n",
    "print(get_language())"
   ]
  },
  {
   "cell_type": "code",
   "execution_count": 8,
   "metadata": {},
   "outputs": [
    {
     "name": "stdout",
     "output_type": "stream",
     "text": [
      "{'check': 'django.core', 'compilemessages': 'django.core', 'createcachetable': 'django.core', 'dbshell': 'django.core', 'diffsettings': 'django.core', 'dumpdata': 'django.core', 'flush': 'django.core', 'inspectdb': 'django.core', 'loaddata': 'django.core', 'makemessages': 'django.core', 'makemigrations': 'django.core', 'migrate': 'django.core', 'runserver': 'django.contrib.staticfiles', 'sendtestemail': 'django.core', 'shell': 'django.core', 'showmigrations': 'django.core', 'sqlflush': 'django.core', 'sqlmigrate': 'django.core', 'sqlsequencereset': 'django.core', 'squashmigrations': 'django.core', 'startapp': 'django.core', 'startproject': 'django.core', 'test': 'django.core', 'testserver': 'django.core', 'collectstatic': 'django.contrib.staticfiles', 'findstatic': 'django.contrib.staticfiles', 'clearsessions': 'django.contrib.sessions', 'remove_stale_contenttypes': 'django.contrib.contenttypes', 'changepassword': 'django.contrib.auth', 'createsuperuser': 'django.contrib.auth'}\n"
     ]
    }
   ],
   "source": [
    "from django.core.management import get_commands\n",
    "print(get_commands())"
   ]
  },
  {
   "cell_type": "markdown",
   "metadata": {},
   "source": [
    "这里可以看到所有可以执行的命令"
   ]
  },
  {
   "cell_type": "code",
   "execution_count": 9,
   "metadata": {
    "scrolled": true
   },
   "outputs": [
    {
     "name": "stdout",
     "output_type": "stream",
     "text": [
      "<django.contrib.staticfiles.management.commands.runserver.Command object at 0x1051bbf60>\n"
     ]
    }
   ],
   "source": [
    "from django.core.management import ManagementUtility\n",
    "utility = ManagementUtility()\n",
    "print(utility.fetch_command('runserver'))"
   ]
  },
  {
   "cell_type": "code",
   "execution_count": null,
   "metadata": {},
   "outputs": [],
   "source": []
  }
 ],
 "metadata": {
  "kernelspec": {
   "display_name": "Python 3",
   "language": "python",
   "name": "python3"
  },
  "language_info": {
   "codemirror_mode": {
    "name": "ipython",
    "version": 3
   },
   "file_extension": ".py",
   "mimetype": "text/x-python",
   "name": "python",
   "nbconvert_exporter": "python",
   "pygments_lexer": "ipython3",
   "version": "3.6.3"
  }
 },
 "nbformat": 4,
 "nbformat_minor": 2
}
