{
 "cells": [
  {
   "cell_type": "code",
   "execution_count": 1,
   "metadata": {},
   "outputs": [
    {
     "name": "stdout",
     "output_type": "stream",
     "text": [
      "2.0rc1\n"
     ]
    }
   ],
   "source": [
    "import django\n",
    "print(django.__version__)"
   ]
  },
  {
   "cell_type": "code",
   "execution_count": 2,
   "metadata": {},
   "outputs": [
    {
     "name": "stdout",
     "output_type": "stream",
     "text": [
      "['', '/usr/local/Cellar/pyenv/1.1.5/versions/3.6.3/lib/python36.zip', '/usr/local/Cellar/pyenv/1.1.5/versions/3.6.3/lib/python3.6', '/usr/local/Cellar/pyenv/1.1.5/versions/3.6.3/lib/python3.6/lib-dynload', '/usr/local/Cellar/pyenv/1.1.5/versions/3.6.3/lib/python3.6/site-packages', '/usr/local/Cellar/pyenv/1.1.5/versions/3.6.3/lib/python3.6/site-packages/IPython/extensions', '/Users/newlife/.ipython']\n"
     ]
    }
   ],
   "source": [
    "import os,sys\n",
    "print(sys.path)"
   ]
  },
  {
   "cell_type": "code",
   "execution_count": 3,
   "metadata": {},
   "outputs": [],
   "source": [
    "sys.path.insert(0, '~/mysite')\n",
    "os.environ.setdefault(\"DJANGO_SETTINGS_MODULE\", \"mysite.settings\")\n",
    "import django\n",
    "django.setup()"
   ]
  },
  {
   "cell_type": "code",
   "execution_count": 4,
   "metadata": {},
   "outputs": [
    {
     "name": "stdout",
     "output_type": "stream",
     "text": [
      "<URLResolver 'mysite.urls' (None:None) '^/'>\n"
     ]
    }
   ],
   "source": [
    "from django.urls import get_resolver\n",
    "resolver = get_resolver()\n",
    "print(resolver)"
   ]
  },
  {
   "cell_type": "code",
   "execution_count": 5,
   "metadata": {},
   "outputs": [
    {
     "name": "stdout",
     "output_type": "stream",
     "text": [
      "ResolverMatch(func=polls.views.index, args=(), kwargs={}, url_name=index, app_names=[], namespaces=[])\n"
     ]
    }
   ],
   "source": [
    "resolver_match = resolver.resolve('/polls/')\n",
    "print(resolver_match)"
   ]
  },
  {
   "cell_type": "code",
   "execution_count": null,
   "metadata": {},
   "outputs": [],
   "source": []
  }
 ],
 "metadata": {
  "kernelspec": {
   "display_name": "Python 3",
   "language": "python",
   "name": "python3"
  },
  "language_info": {
   "codemirror_mode": {
    "name": "ipython",
    "version": 3
   },
   "file_extension": ".py",
   "mimetype": "text/x-python",
   "name": "python",
   "nbconvert_exporter": "python",
   "pygments_lexer": "ipython3",
   "version": "3.6.3"
  }
 },
 "nbformat": 4,
 "nbformat_minor": 2
}
