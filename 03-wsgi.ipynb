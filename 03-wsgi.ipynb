{
 "cells": [
  {
   "cell_type": "markdown",
   "metadata": {},
   "source": [
    "WSGI：Web Server Gateway Interface。\n",
    "\n",
    "WSGI接口定义非常简单，它只要求Web开发者实现一个函数，就可以响应HTTP请求。我们来看一个最简单的Web版本的“Hello, web!”："
   ]
  },
  {
   "cell_type": "code",
   "execution_count": null,
   "metadata": {},
   "outputs": [],
   "source": [
    "def application(environ, start_response):\n",
    "    start_response('200 OK', [('Content-Type', 'text/html')])\n",
    "    return '<h1>Hello, web!</h1>'"
   ]
  },
  {
   "cell_type": "markdown",
   "metadata": {},
   "source": [
    "django中对应的实现在`django/core/handlers/wsgi.py `中，"
   ]
  },
  {
   "cell_type": "code",
   "execution_count": null,
   "metadata": {},
   "outputs": [],
   "source": [
    "class WSGIHandler(base.BaseHandler):                                                                                                              \n",
    "    request_class = WSGIRequest                                                                                                                   \n",
    "                                                                                                                                                  \n",
    "    def __init__(self, *args, **kwargs):                                                                                                          \n",
    "        super().__init__(*args, **kwargs)                                                                                                         \n",
    "        self.load_middleware()                                                                                                                    \n",
    "                                                                                                                                                  \n",
    "    def __call__(self, environ, start_response):                                                                                                  \n",
    "        set_script_prefix(get_script_name(environ))                                                                                               \n",
    "        signals.request_started.send(sender=self.__class__, environ=environ)                                                                      \n",
    "        request = self.request_class(environ)                                                                                                     \n",
    "        response = self.get_response(request)                                                                                                     \n",
    "                                                                                                                                                  \n",
    "        response._handler_class = self.__class__                                                                                                  \n",
    "                                                                                                                                                  \n",
    "        status = '%d %s' % (response.status_code, response.reason_phrase)                                                                         \n",
    "        response_headers = list(response.items())                                                                                                 \n",
    "        for c in response.cookies.values():                                                                                                       \n",
    "            response_headers.append(('Set-Cookie', c.output(header='')))                                                                          \n",
    "        start_response(status, response_headers)                                                                                                  \n",
    "        if getattr(response, 'file_to_stream', None) is not None and environ.get('wsgi.file_wrapper'):                                            \n",
    "            response = environ['wsgi.file_wrapper'](response.file_to_stream)                                                                      \n",
    "        return response "
   ]
  }
 ],
 "metadata": {
  "kernelspec": {
   "display_name": "Python 3",
   "language": "python",
   "name": "python3"
  },
  "language_info": {
   "codemirror_mode": {
    "name": "ipython",
    "version": 3
   },
   "file_extension": ".py",
   "mimetype": "text/x-python",
   "name": "python",
   "nbconvert_exporter": "python",
   "pygments_lexer": "ipython3",
   "version": "3.6.3"
  }
 },
 "nbformat": 4,
 "nbformat_minor": 2
}
